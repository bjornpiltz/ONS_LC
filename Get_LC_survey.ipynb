{
 "cells": [
  {
   "cell_type": "markdown",
   "metadata": {},
   "source": [
    "# Prevalence of ongoing symptoms following coronavirus (COVID-19) infection in the UK\n",
    "\n",
    "We scrape the Excel files [published by ONS here](https://www.ons.gov.uk/peoplepopulationandcommunity/healthandsocialcare/conditionsanddiseases/datasets/alldatarelatingtoprevalenceofongoingsymptomsfollowingcoronaviruscovid19infectionintheuk) and save them to `data/tidy_ons_longcovid.csv`\n"
   ]
  },
  {
   "cell_type": "code",
   "execution_count": 2,
   "metadata": {
    "ExecuteTime": {
     "end_time": "2023-05-07T18:51:25.990222Z",
     "start_time": "2023-05-07T18:51:25.671Z"
    }
   },
   "outputs": [],
   "source": [
    "library(tidyverse)\n",
    "library(readxl)\n",
    "library(rvest)\n",
    "\n",
    "html <- read_html(\"https://www.ons.gov.uk/peoplepopulationandcommunity/healthandsocialcare/conditionsanddiseases/datasets/alldatarelatingtoprevalenceofongoingsymptomsfollowingcoronaviruscovid19infectionintheuk\")\n",
    "uri_nodes <- html %>% html_nodes(\".btn--primary\")%>% html_attr('href')\n",
    "\n",
    "df <- data.frame(uri=uri_nodes)%>%\n",
    "  filter(grepl('peoplepopulationandcommunity', uri), T)"
   ]
  },
  {
   "cell_type": "code",
   "execution_count": 10,
   "metadata": {
    "ExecuteTime": {
     "end_time": "2023-05-07T18:56:49.779914Z",
     "start_time": "2023-05-07T18:56:49.743Z"
    }
   },
   "outputs": [],
   "source": [
    "# format before 20220303 with the exception of 20210401\n",
    "readOldFormat <- function(filename, tableName){\n",
    "    \n",
    "  desc <- read_excel(filename, sheet = tableName, range=\"A2:A2\") \n",
    "\n",
    "  a <- \n",
    "    read_excel(filename, sheet = tableName, range = \"A5:E37\")%>%\n",
    "    mutate(`Impact on daily activity` = \"Activity not limited\")%>%\n",
    "    fill(Domain)\n",
    "\n",
    "  b <- cbind(\n",
    "    read_excel(filename, sheet = tableName, range = \"A5:B37\"),\n",
    "    read_excel(filename, sheet = tableName, range = \"I5:K37\"))%>%\n",
    "    mutate(`Impact on daily activity` = \"Activity limited a lot\")%>%\n",
    "    fill(Domain)\n",
    "\n",
    "\n",
    "  c <- cbind(\n",
    "    read_excel(filename, sheet = tableName, range = \"A5:B37\"),\n",
    "    read_excel(filename, sheet = tableName, range = \"F5:H37\"))%>%\n",
    "    mutate(`Impact on daily activity` = \"Activity limited a little\")%>%\n",
    "    fill(Domain)\n",
    "\n",
    "  data <-\n",
    "    rbind(a, b)%>%\n",
    "    rbind(c)%>%\n",
    "    mutate(info = colnames(desc)[[1]])%>%\n",
    "    mutate(filename = filename)\n",
    "    \n",
    "  return(data)\n",
    "}"
   ]
  },
  {
   "cell_type": "code",
   "execution_count": 4,
   "metadata": {
    "ExecuteTime": {
     "end_time": "2023-05-07T18:52:28.120094Z",
     "start_time": "2023-05-07T18:52:28.088Z"
    }
   },
   "outputs": [],
   "source": [
    "# format after 20220303\n",
    "readNewFormat <- function(filename, tableName){\n",
    "    \n",
    "  columns <- c(\"Impact on daily activity\", \n",
    "               \"Domain\", \n",
    "               \"Group\", \n",
    "               \"Estimate\", \n",
    "               \"Lower 95% confidence limit\", \n",
    "               \"Upper 95% confidence limit\")\n",
    "    \n",
    "  skipRows <- ifelse(grepl(\"20220303\", filename), 3, 4)\n",
    "\n",
    "  desc <- read_excel(filename, sheet = tableName, range=\"A1:A1\") \n",
    "\n",
    "  data <- read_excel(filename, sheet = tableName, skip = skipRows) %>%\n",
    "    select(all_of(columns))%>%\n",
    "    mutate(info = colnames(desc)[[1]])%>%\n",
    "    mutate(filename = filename)\n",
    "\n",
    "  return(data)\n",
    "}"
   ]
  },
  {
   "cell_type": "markdown",
   "metadata": {},
   "source": [
    "## Download and parse all files listed on the ONS page"
   ]
  },
  {
   "cell_type": "code",
   "execution_count": 43,
   "metadata": {
    "ExecuteTime": {
     "end_time": "2023-05-07T20:40:41.210351Z",
     "start_time": "2023-05-07T20:40:37.345Z"
    }
   },
   "outputs": [
    {
     "name": "stdout",
     "output_type": "stream",
     "text": [
      "[1] \"Reading new format data/longcovid1920230330accessible.xlsx\"\n",
      "[1] \"Reading new format data/longcovid1920230302accessible.xlsx\"\n",
      "[1] \"Reading new format data/longcovid1920230202accessible.xlsx\"\n",
      "[1] \"Reading new format data/longcovid1920230105accessible.xlsx\"\n",
      "[1] \"Reading new format data/longcovid1920221201accessible.xlsx\"\n",
      "[1] \"Reading new format data/longcovid1920221103accessible.xlsx\"\n",
      "[1] \"Reading new format data/longcovid1920221006accessible2.xlsx\"\n",
      "[1] \"Reading new format data/longcovid1920220901accessible.xlsx\"\n",
      "[1] \"Reading new format data/ongoingsymptomsfollowingcovid1920220804accessible.xlsx\"\n",
      "[1] \"Reading new format data/ongoingsymptomsfollowingcovid1920220707accessible.xlsx\"\n",
      "[1] \"Reading new format data/ongoingsymptomsfollowingcovid1920220601accessible.xlsx\"\n",
      "[1] \"Reading new format data/ongoingsymptomsfollowingcovid1920220506accessible.xlsx\"\n",
      "[1] \"Reading new format data/ongoingsymptomsfollowingcovid1920220407accessibleupdated.xlsx\"\n",
      "[1] \"Reading new format data/ongoingsymptomsfollowingcovid1920220303accessibleupdated.xlsx\"\n",
      "[1] \"Reading old format data/ongoingsymptomsfollowingcovid1920220203.xlsx\"\n",
      "[1] \"Reading old format data/ongoingsymptomsfollowingcovid1920220106.xlsx\"\n",
      "[1] \"Reading old format data/ongoingsymptomsfollowingcovid1920211202.xlsx\"\n",
      "[1] \"Reading old format data/ongoingsymptomsfollowingcovid1920211104.xlsx\"\n",
      "[1] \"Reading old format data/ongoingsymptomsfollowingcovid1920211007.xlsx\"\n",
      "[1] \"Reading old format data/ongoingsymptomsfollowingcovid1920210902.xlsx\"\n",
      "[1] \"Reading old format data/ongoingsymptomsfollowingcovid1920210805.xlsx\"\n",
      "[1] \"Reading old format data/ongoingsymptomsfollowingcovid1920210701.xlsx\"\n",
      "[1] \"Reading old format data/ongoingsymptomsfollowingcovid1920210604.xlsx\"\n",
      "[1] \"Not using data/ongoingsymptomsfollowingcovid20210401.xlsx\"\n"
     ]
    }
   ],
   "source": [
    "df_all <- data.frame()\n",
    "\n",
    "for(uri in df$uri){\n",
    "    long_uri <- paste0(\"https://www.ons.gov.uk\", uri)\n",
    "    \n",
    "    vec <- str_split(long_uri, \"/\")\n",
    "    filename <- paste0(\"data/\",  vec[[1]][length(vec[[1]])])\n",
    "    \n",
    "    if(!file.exists(filename)){\n",
    "        download.file(long_uri, destfile = filename)\n",
    "    }\n",
    "    tableName <-  tryCatch({\n",
    "        read_excel(filename, sheet = \"Table 9\", range=\"A1:A1\") \n",
    "        \"Table 9\"\n",
    "    },\n",
    "    error=function(cond) {\n",
    "        \"Table_9\"\n",
    "    })    \n",
    "\n",
    "    if(grepl(\"accessible\", filename)) { \n",
    "\n",
    "        print(paste(\"Reading new format\", filename))        \n",
    "        data <- readNewFormat(filename, tableName)  \n",
    " \n",
    "    }else if(!grepl(\"20210401.xlsx\", filename)){   \n",
    "        \n",
    "        print(paste(\"Reading old format\", filename))          \n",
    "        data <- readOldFormat(filename, tableName)  \n",
    "        \n",
    "     }else{\n",
    "        print(paste(\"Not using\", filename))\n",
    "        data <- data.frame()\n",
    "    }\n",
    "\n",
    "    df_all <- rbind(df_all, data)\n",
    "}"
   ]
  },
  {
   "cell_type": "markdown",
   "metadata": {},
   "source": [
    "## Consolidate the inconsistent groups\n",
    "The warning `NAs introduced by coercion` stems from censored data."
   ]
  },
  {
   "cell_type": "code",
   "execution_count": 44,
   "metadata": {
    "ExecuteTime": {
     "end_time": "2023-05-07T20:40:43.937838Z",
     "start_time": "2023-05-07T20:40:37.864Z"
    }
   },
   "outputs": [
    {
     "name": "stderr",
     "output_type": "stream",
     "text": [
      "Warning message:\n",
      "“\u001b[1m\u001b[22mThere was 1 warning in `mutate()`.\n",
      "\u001b[1m\u001b[22m\u001b[36mℹ\u001b[39m In argument: `Estimate = as.integer(Estimate)`.\n",
      "Caused by warning:\n",
      "\u001b[33m!\u001b[39m NAs introduced by coercion”\n",
      "Warning message:\n",
      "“\u001b[1m\u001b[22mThere was 1 warning in `mutate()`.\n",
      "\u001b[1m\u001b[22m\u001b[36mℹ\u001b[39m In argument: `Lower 95% confidence limit = as.integer(`Lower 95% confidence\n",
      "  limit`)`.\n",
      "Caused by warning:\n",
      "\u001b[33m!\u001b[39m NAs introduced by coercion”\n",
      "Warning message:\n",
      "“\u001b[1m\u001b[22mThere was 1 warning in `mutate()`.\n",
      "\u001b[1m\u001b[22m\u001b[36mℹ\u001b[39m In argument: `Upper 95% confidence limit = as.integer(`Upper 95% confidence\n",
      "  limit`)`.\n",
      "Caused by warning:\n",
      "\u001b[33m!\u001b[39m NAs introduced by coercion”\n"
     ]
    },
    {
     "data": {
      "text/html": [
       "<table class=\"dataframe\">\n",
       "<caption>A tibble: 6 × 9</caption>\n",
       "<thead>\n",
       "\t<tr><th scope=col>Impact on daily activity</th><th scope=col>Domain</th><th scope=col>Group</th><th scope=col>Estimate</th><th scope=col>Lower 95% confidence limit</th><th scope=col>Upper 95% confidence limit</th><th scope=col>filename</th><th scope=col>Week Ending Date</th><th scope=col>midpoint_date</th></tr>\n",
       "\t<tr><th scope=col>&lt;chr&gt;</th><th scope=col>&lt;chr&gt;</th><th scope=col>&lt;chr&gt;</th><th scope=col>&lt;int&gt;</th><th scope=col>&lt;int&gt;</th><th scope=col>&lt;int&gt;</th><th scope=col>&lt;chr&gt;</th><th scope=col>&lt;date&gt;</th><th scope=col>&lt;date&gt;</th></tr>\n",
       "</thead>\n",
       "<tbody>\n",
       "\t<tr><td>Activity not limited</td><td>Duration since first (suspected) coronavirus infection</td><td>52+ weeks</td><td>122</td><td>110</td><td>134</td><td>data/ongoingsymptomsfollowingcovid1920211007.xlsx                 </td><td>2021-09-05</td><td>2021-08-22</td></tr>\n",
       "\t<tr><td>Activity not limited</td><td>Duration since first (suspected) coronavirus infection</td><td>52+ weeks</td><td>122</td><td>110</td><td>134</td><td>data/ongoingsymptomsfollowingcovid1920211104.xlsx                 </td><td>2021-10-02</td><td>2021-09-18</td></tr>\n",
       "\t<tr><td>Activity not limited</td><td>Duration since first (suspected) coronavirus infection</td><td>52+ weeks</td><td>138</td><td>126</td><td>149</td><td>data/ongoingsymptomsfollowingcovid1920211202.xlsx                 </td><td>2021-10-31</td><td>2021-10-17</td></tr>\n",
       "\t<tr><td>Activity not limited</td><td>Duration since first (suspected) coronavirus infection</td><td>52+ weeks</td><td>166</td><td>153</td><td>179</td><td>data/ongoingsymptomsfollowingcovid1920220106.xlsx                 </td><td>2021-12-06</td><td>2021-11-22</td></tr>\n",
       "\t<tr><td>Activity not limited</td><td>Duration since first (suspected) coronavirus infection</td><td>52+ weeks</td><td>179</td><td>165</td><td>194</td><td>data/ongoingsymptomsfollowingcovid1920220203.xlsx                 </td><td>2022-01-02</td><td>2021-12-19</td></tr>\n",
       "\t<tr><td>Activity not limited</td><td>Duration since first (suspected) coronavirus infection</td><td>52+ weeks</td><td>215</td><td>201</td><td>229</td><td>data/ongoingsymptomsfollowingcovid1920220303accessibleupdated.xlsx</td><td>2022-01-31</td><td>2022-01-17</td></tr>\n",
       "</tbody>\n",
       "</table>\n"
      ],
      "text/latex": [
       "A tibble: 6 × 9\n",
       "\\begin{tabular}{lllllllll}\n",
       " Impact on daily activity & Domain & Group & Estimate & Lower 95\\% confidence limit & Upper 95\\% confidence limit & filename & Week Ending Date & midpoint\\_date\\\\\n",
       " <chr> & <chr> & <chr> & <int> & <int> & <int> & <chr> & <date> & <date>\\\\\n",
       "\\hline\n",
       "\t Activity not limited & Duration since first (suspected) coronavirus infection & 52+ weeks & 122 & 110 & 134 & data/ongoingsymptomsfollowingcovid1920211007.xlsx                  & 2021-09-05 & 2021-08-22\\\\\n",
       "\t Activity not limited & Duration since first (suspected) coronavirus infection & 52+ weeks & 122 & 110 & 134 & data/ongoingsymptomsfollowingcovid1920211104.xlsx                  & 2021-10-02 & 2021-09-18\\\\\n",
       "\t Activity not limited & Duration since first (suspected) coronavirus infection & 52+ weeks & 138 & 126 & 149 & data/ongoingsymptomsfollowingcovid1920211202.xlsx                  & 2021-10-31 & 2021-10-17\\\\\n",
       "\t Activity not limited & Duration since first (suspected) coronavirus infection & 52+ weeks & 166 & 153 & 179 & data/ongoingsymptomsfollowingcovid1920220106.xlsx                  & 2021-12-06 & 2021-11-22\\\\\n",
       "\t Activity not limited & Duration since first (suspected) coronavirus infection & 52+ weeks & 179 & 165 & 194 & data/ongoingsymptomsfollowingcovid1920220203.xlsx                  & 2022-01-02 & 2021-12-19\\\\\n",
       "\t Activity not limited & Duration since first (suspected) coronavirus infection & 52+ weeks & 215 & 201 & 229 & data/ongoingsymptomsfollowingcovid1920220303accessibleupdated.xlsx & 2022-01-31 & 2022-01-17\\\\\n",
       "\\end{tabular}\n"
      ],
      "text/markdown": [
       "\n",
       "A tibble: 6 × 9\n",
       "\n",
       "| Impact on daily activity &lt;chr&gt; | Domain &lt;chr&gt; | Group &lt;chr&gt; | Estimate &lt;int&gt; | Lower 95% confidence limit &lt;int&gt; | Upper 95% confidence limit &lt;int&gt; | filename &lt;chr&gt; | Week Ending Date &lt;date&gt; | midpoint_date &lt;date&gt; |\n",
       "|---|---|---|---|---|---|---|---|---|\n",
       "| Activity not limited | Duration since first (suspected) coronavirus infection | 52+ weeks | 122 | 110 | 134 | data/ongoingsymptomsfollowingcovid1920211007.xlsx                  | 2021-09-05 | 2021-08-22 |\n",
       "| Activity not limited | Duration since first (suspected) coronavirus infection | 52+ weeks | 122 | 110 | 134 | data/ongoingsymptomsfollowingcovid1920211104.xlsx                  | 2021-10-02 | 2021-09-18 |\n",
       "| Activity not limited | Duration since first (suspected) coronavirus infection | 52+ weeks | 138 | 126 | 149 | data/ongoingsymptomsfollowingcovid1920211202.xlsx                  | 2021-10-31 | 2021-10-17 |\n",
       "| Activity not limited | Duration since first (suspected) coronavirus infection | 52+ weeks | 166 | 153 | 179 | data/ongoingsymptomsfollowingcovid1920220106.xlsx                  | 2021-12-06 | 2021-11-22 |\n",
       "| Activity not limited | Duration since first (suspected) coronavirus infection | 52+ weeks | 179 | 165 | 194 | data/ongoingsymptomsfollowingcovid1920220203.xlsx                  | 2022-01-02 | 2021-12-19 |\n",
       "| Activity not limited | Duration since first (suspected) coronavirus infection | 52+ weeks | 215 | 201 | 229 | data/ongoingsymptomsfollowingcovid1920220303accessibleupdated.xlsx | 2022-01-31 | 2022-01-17 |\n",
       "\n"
      ],
      "text/plain": [
       "  Impact on daily activity\n",
       "1 Activity not limited    \n",
       "2 Activity not limited    \n",
       "3 Activity not limited    \n",
       "4 Activity not limited    \n",
       "5 Activity not limited    \n",
       "6 Activity not limited    \n",
       "  Domain                                                 Group     Estimate\n",
       "1 Duration since first (suspected) coronavirus infection 52+ weeks 122     \n",
       "2 Duration since first (suspected) coronavirus infection 52+ weeks 122     \n",
       "3 Duration since first (suspected) coronavirus infection 52+ weeks 138     \n",
       "4 Duration since first (suspected) coronavirus infection 52+ weeks 166     \n",
       "5 Duration since first (suspected) coronavirus infection 52+ weeks 179     \n",
       "6 Duration since first (suspected) coronavirus infection 52+ weeks 215     \n",
       "  Lower 95% confidence limit Upper 95% confidence limit\n",
       "1 110                        134                       \n",
       "2 110                        134                       \n",
       "3 126                        149                       \n",
       "4 153                        179                       \n",
       "5 165                        194                       \n",
       "6 201                        229                       \n",
       "  filename                                                          \n",
       "1 data/ongoingsymptomsfollowingcovid1920211007.xlsx                 \n",
       "2 data/ongoingsymptomsfollowingcovid1920211104.xlsx                 \n",
       "3 data/ongoingsymptomsfollowingcovid1920211202.xlsx                 \n",
       "4 data/ongoingsymptomsfollowingcovid1920220106.xlsx                 \n",
       "5 data/ongoingsymptomsfollowingcovid1920220203.xlsx                 \n",
       "6 data/ongoingsymptomsfollowingcovid1920220303accessibleupdated.xlsx\n",
       "  Week Ending Date midpoint_date\n",
       "1 2021-09-05       2021-08-22   \n",
       "2 2021-10-02       2021-09-18   \n",
       "3 2021-10-31       2021-10-17   \n",
       "4 2021-12-06       2021-11-22   \n",
       "5 2022-01-02       2021-12-19   \n",
       "6 2022-01-31       2022-01-17   "
      ]
     },
     "metadata": {},
     "output_type": "display_data"
    }
   ],
   "source": [
    "df_all <- \n",
    "  df_all%>%  \n",
    "  mutate(`Week Ending Date` = gsub(\".*ending \", \"\", info))%>% \n",
    "  mutate(`Week Ending Date` = as.Date(`Week Ending Date`, format = \"%d %B %Y\"))%>%  \n",
    "  mutate(Estimate = as.integer(Estimate))%>%  \n",
    "  mutate(`Lower 95% confidence limit` = as.integer(`Lower 95% confidence limit`))%>%  \n",
    "  mutate(`Upper 95% confidence limit` = as.integer(`Upper 95% confidence limit`))%>%  \n",
    "  mutate(`Impact on daily activity` = gsub(\"A little\", \"Activity limited a little\", `Impact on daily activity`))%>%\n",
    "  mutate(`Impact on daily activity` = gsub(\"A lot\", \"Activity limited a lot\", `Impact on daily activity`))%>%\n",
    "  mutate(`Impact on daily activity` = gsub(\"Not at all\", \"Activity not limited\", `Impact on daily activity`))%>%\n",
    "  mutate(Group = gsub(\"<12 weeks\", \"4 to <12 weeks\", Group))%>%\n",
    "  mutate(Group = gsub(\"≥52 weeks\", \"52+ weeks\", Group))%>%\n",
    "  mutate(Group = gsub(\">= 52 weeks\", \"52+ weeks\", Group))%>%\n",
    "  mutate(Group = gsub(\">=104 weeks\", \"104+ weeks\", Group))%>%\n",
    "  mutate(Group = gsub(\"≥70 years\", \"70+\", Group))%>%\n",
    "  mutate(Group = gsub(\" years\", \"\", Group))%>%\n",
    "  mutate(Group = gsub(\"Men\", \"Male\", Group))%>%\n",
    "  mutate(Group = gsub(\"Women\", \"Female\", Group))%>%\n",
    "  mutate(Domain = gsub(\"NHS contact at time.*\", \n",
    "                      \"NHS contact at time of first (suspected) coronavirus infection\", Domain))%>%\n",
    "  mutate(midpoint_date =`Week Ending Date` - 14)%>%  \n",
    "  select(-info)\n",
    "\n",
    "df_all%>%\n",
    "  write_csv(\"data/tidy_ons_longcovid.csv\")\n",
    "\n",
    "df_all%>%  \n",
    "  filter(Group == \"52+ weeks\")%>%  \n",
    "  filter(`Impact on daily activity` == \"Activity not limited\")%>%\n",
    "  arrange(`Week Ending Date`)%>%\n",
    "  tail"
   ]
  }
 ],
 "metadata": {
  "kernelspec": {
   "display_name": "R",
   "language": "R",
   "name": "ir"
  },
  "language_info": {
   "codemirror_mode": "r",
   "file_extension": ".r",
   "mimetype": "text/x-r-source",
   "name": "R",
   "pygments_lexer": "r",
   "version": "4.1.3"
  },
  "varInspector": {
   "cols": {
    "lenName": 16,
    "lenType": 16,
    "lenVar": 40
   },
   "kernels_config": {
    "python": {
     "delete_cmd_postfix": "",
     "delete_cmd_prefix": "del ",
     "library": "var_list.py",
     "varRefreshCmd": "print(var_dic_list())"
    },
    "r": {
     "delete_cmd_postfix": ") ",
     "delete_cmd_prefix": "rm(",
     "library": "var_list.r",
     "varRefreshCmd": "cat(var_dic_list()) "
    }
   },
   "types_to_exclude": [
    "module",
    "function",
    "builtin_function_or_method",
    "instance",
    "_Feature"
   ],
   "window_display": false
  }
 },
 "nbformat": 4,
 "nbformat_minor": 2
}
