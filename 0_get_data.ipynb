{
 "cells": [
  {
   "cell_type": "markdown",
   "metadata": {},
   "source": [
    "# Prevalence of ongoing symptoms following coronavirus (COVID-19) infection in the UK\n",
    "https://www.ons.gov.uk/peoplepopulationandcommunity/healthandsocialcare/conditionsanddiseases/datasets/alldatarelatingtoprevalenceofongoingsymptomsfollowingcoronaviruscovid19infectionintheuk"
   ]
  },
  {
   "cell_type": "code",
   "execution_count": 2,
   "metadata": {
    "ExecuteTime": {
     "end_time": "2023-04-25T09:49:04.099107Z",
     "start_time": "2023-04-25T09:48:58.619Z"
    }
   },
   "outputs": [],
   "source": [
    "library(tidyverse)\n",
    "library(readxl)\n",
    "library(rvest)\n",
    "\n",
    "html <- read_html(\"https://www.ons.gov.uk/peoplepopulationandcommunity/healthandsocialcare/conditionsanddiseases/datasets/alldatarelatingtoprevalenceofongoingsymptomsfollowingcoronaviruscovid19infectionintheuk\")\n",
    "uri_nodes <- html %>% html_nodes(\".btn--primary\")%>% html_attr('href')\n",
    "\n",
    "df <- data.frame(uri=uri_nodes)%>%\n",
    "  filter(grepl('peoplepopulationandcommunity', uri), T)"
   ]
  },
  {
   "cell_type": "code",
   "execution_count": 3,
   "metadata": {
    "ExecuteTime": {
     "end_time": "2023-04-25T09:49:11.914746Z",
     "start_time": "2023-04-25T09:49:02.117Z"
    }
   },
   "outputs": [
    {
     "name": "stdout",
     "output_type": "stream",
     "text": [
      "[1] \"Not using data/ongoingsymptomsfollowingcovid20210401.xlsx\"\n"
     ]
    },
    {
     "data": {
      "text/html": [
       "<table class=\"dataframe\">\n",
       "<caption>A tibble: 6 × 8</caption>\n",
       "<thead>\n",
       "\t<tr><th scope=col>Impact on daily activity</th><th scope=col>Domain</th><th scope=col>Group</th><th scope=col>Estimate</th><th scope=col>Lower 95% confidence limit</th><th scope=col>Upper 95% confidence limit</th><th scope=col>filename</th><th scope=col>Date</th></tr>\n",
       "\t<tr><th scope=col>&lt;chr&gt;</th><th scope=col>&lt;chr&gt;</th><th scope=col>&lt;chr&gt;</th><th scope=col>&lt;int&gt;</th><th scope=col>&lt;chr&gt;</th><th scope=col>&lt;chr&gt;</th><th scope=col>&lt;chr&gt;</th><th scope=col>&lt;date&gt;</th></tr>\n",
       "</thead>\n",
       "<tbody>\n",
       "\t<tr><td>Activity not limited</td><td>Duration since first (suspected) coronavirus infection</td><td>&gt;= 52 weeks</td><td>122</td><td>110</td><td>134</td><td><span style=white-space:pre-wrap>data/ongoingsymptomsfollowingcovid1920211007.xlsx                 </span></td><td>2021-09-05</td></tr>\n",
       "\t<tr><td>Activity not limited</td><td>Duration since first (suspected) coronavirus infection</td><td>&gt;= 52 weeks</td><td>122</td><td>110</td><td>134</td><td><span style=white-space:pre-wrap>data/ongoingsymptomsfollowingcovid1920211104.xlsx                 </span></td><td>2021-10-02</td></tr>\n",
       "\t<tr><td>Activity not limited</td><td>Duration since first (suspected) coronavirus infection</td><td>&gt;= 52 weeks</td><td>138</td><td>126</td><td>149</td><td><span style=white-space:pre-wrap>data/ongoingsymptomsfollowingcovid1920211202.xlsx                 </span></td><td>2021-10-31</td></tr>\n",
       "\t<tr><td>Activity not limited</td><td>Duration since first (suspected) coronavirus infection</td><td>&gt;= 52 weeks</td><td>166</td><td>153</td><td>179</td><td><span style=white-space:pre-wrap>data/ongoingsymptomsfollowingcovid1920220106.xlsx                 </span></td><td>2021-12-06</td></tr>\n",
       "\t<tr><td>Activity not limited</td><td>Duration since first (suspected) coronavirus infection</td><td>&gt;= 52 weeks</td><td>179</td><td>165</td><td>194</td><td><span style=white-space:pre-wrap>data/ongoingsymptomsfollowingcovid1920220203.xlsx                 </span></td><td>2022-01-02</td></tr>\n",
       "\t<tr><td>Activity not limited</td><td>Duration since first (suspected) coronavirus infection</td><td>&gt;= 52 weeks</td><td>215</td><td>201</td><td>229</td><td>data/ongoingsymptomsfollowingcovid1920220303accessibleupdated.xlsx</td><td>2022-01-31</td></tr>\n",
       "</tbody>\n",
       "</table>\n"
      ],
      "text/latex": [
       "A tibble: 6 × 8\n",
       "\\begin{tabular}{llllllll}\n",
       " Impact on daily activity & Domain & Group & Estimate & Lower 95\\% confidence limit & Upper 95\\% confidence limit & filename & Date\\\\\n",
       " <chr> & <chr> & <chr> & <int> & <chr> & <chr> & <chr> & <date>\\\\\n",
       "\\hline\n",
       "\t Activity not limited & Duration since first (suspected) coronavirus infection & >= 52 weeks & 122 & 110 & 134 & data/ongoingsymptomsfollowingcovid1920211007.xlsx                  & 2021-09-05\\\\\n",
       "\t Activity not limited & Duration since first (suspected) coronavirus infection & >= 52 weeks & 122 & 110 & 134 & data/ongoingsymptomsfollowingcovid1920211104.xlsx                  & 2021-10-02\\\\\n",
       "\t Activity not limited & Duration since first (suspected) coronavirus infection & >= 52 weeks & 138 & 126 & 149 & data/ongoingsymptomsfollowingcovid1920211202.xlsx                  & 2021-10-31\\\\\n",
       "\t Activity not limited & Duration since first (suspected) coronavirus infection & >= 52 weeks & 166 & 153 & 179 & data/ongoingsymptomsfollowingcovid1920220106.xlsx                  & 2021-12-06\\\\\n",
       "\t Activity not limited & Duration since first (suspected) coronavirus infection & >= 52 weeks & 179 & 165 & 194 & data/ongoingsymptomsfollowingcovid1920220203.xlsx                  & 2022-01-02\\\\\n",
       "\t Activity not limited & Duration since first (suspected) coronavirus infection & >= 52 weeks & 215 & 201 & 229 & data/ongoingsymptomsfollowingcovid1920220303accessibleupdated.xlsx & 2022-01-31\\\\\n",
       "\\end{tabular}\n"
      ],
      "text/markdown": [
       "\n",
       "A tibble: 6 × 8\n",
       "\n",
       "| Impact on daily activity &lt;chr&gt; | Domain &lt;chr&gt; | Group &lt;chr&gt; | Estimate &lt;int&gt; | Lower 95% confidence limit &lt;chr&gt; | Upper 95% confidence limit &lt;chr&gt; | filename &lt;chr&gt; | Date &lt;date&gt; |\n",
       "|---|---|---|---|---|---|---|---|\n",
       "| Activity not limited | Duration since first (suspected) coronavirus infection | &gt;= 52 weeks | 122 | 110 | 134 | data/ongoingsymptomsfollowingcovid1920211007.xlsx                  | 2021-09-05 |\n",
       "| Activity not limited | Duration since first (suspected) coronavirus infection | &gt;= 52 weeks | 122 | 110 | 134 | data/ongoingsymptomsfollowingcovid1920211104.xlsx                  | 2021-10-02 |\n",
       "| Activity not limited | Duration since first (suspected) coronavirus infection | &gt;= 52 weeks | 138 | 126 | 149 | data/ongoingsymptomsfollowingcovid1920211202.xlsx                  | 2021-10-31 |\n",
       "| Activity not limited | Duration since first (suspected) coronavirus infection | &gt;= 52 weeks | 166 | 153 | 179 | data/ongoingsymptomsfollowingcovid1920220106.xlsx                  | 2021-12-06 |\n",
       "| Activity not limited | Duration since first (suspected) coronavirus infection | &gt;= 52 weeks | 179 | 165 | 194 | data/ongoingsymptomsfollowingcovid1920220203.xlsx                  | 2022-01-02 |\n",
       "| Activity not limited | Duration since first (suspected) coronavirus infection | &gt;= 52 weeks | 215 | 201 | 229 | data/ongoingsymptomsfollowingcovid1920220303accessibleupdated.xlsx | 2022-01-31 |\n",
       "\n"
      ],
      "text/plain": [
       "  Impact on daily activity\n",
       "1 Activity not limited    \n",
       "2 Activity not limited    \n",
       "3 Activity not limited    \n",
       "4 Activity not limited    \n",
       "5 Activity not limited    \n",
       "6 Activity not limited    \n",
       "  Domain                                                 Group       Estimate\n",
       "1 Duration since first (suspected) coronavirus infection >= 52 weeks 122     \n",
       "2 Duration since first (suspected) coronavirus infection >= 52 weeks 122     \n",
       "3 Duration since first (suspected) coronavirus infection >= 52 weeks 138     \n",
       "4 Duration since first (suspected) coronavirus infection >= 52 weeks 166     \n",
       "5 Duration since first (suspected) coronavirus infection >= 52 weeks 179     \n",
       "6 Duration since first (suspected) coronavirus infection >= 52 weeks 215     \n",
       "  Lower 95% confidence limit Upper 95% confidence limit\n",
       "1 110                        134                       \n",
       "2 110                        134                       \n",
       "3 126                        149                       \n",
       "4 153                        179                       \n",
       "5 165                        194                       \n",
       "6 201                        229                       \n",
       "  filename                                                           Date      \n",
       "1 data/ongoingsymptomsfollowingcovid1920211007.xlsx                  2021-09-05\n",
       "2 data/ongoingsymptomsfollowingcovid1920211104.xlsx                  2021-10-02\n",
       "3 data/ongoingsymptomsfollowingcovid1920211202.xlsx                  2021-10-31\n",
       "4 data/ongoingsymptomsfollowingcovid1920220106.xlsx                  2021-12-06\n",
       "5 data/ongoingsymptomsfollowingcovid1920220203.xlsx                  2022-01-02\n",
       "6 data/ongoingsymptomsfollowingcovid1920220303accessibleupdated.xlsx 2022-01-31"
      ]
     },
     "metadata": {},
     "output_type": "display_data"
    }
   ],
   "source": [
    "df_all <- data.frame()\n",
    "\n",
    "for(uri in df$uri){\n",
    "    long_uri <- paste0(\"https://www.ons.gov.uk\", uri)\n",
    "    \n",
    "    vec <- str_split(long_uri, \"/\")\n",
    "    filename <- paste0(\"data/\",  vec[[1]][length(vec[[1]])])\n",
    "    \n",
    "    if(!file.exists(filename)){\n",
    "        download.file(long_uri, destfile = filename)\n",
    "    }\n",
    "    tableName <-  tryCatch({\n",
    "        desc <- read_excel(filename, sheet = \"Table 9\", range=\"A1:A1\") \n",
    "        \"Table 9\"\n",
    "    },\n",
    "    error=function(cond) {\n",
    "        \"Table_9\"\n",
    "    })    \n",
    "\n",
    "    if(!grepl(\"ongoingsymptoms\", filename) || grepl(\"accessible\", filename) && !grepl(\"20303accessibleupdated\", filename)) { \n",
    "        \n",
    "        desc <- read_excel(filename, sheet = tableName, range=\"A1:A1\") \n",
    "        data <- read_excel(filename, sheet = tableName, skip = 4) %>%\n",
    "          mutate(info = colnames(desc)[[1]])%>%\n",
    "          mutate(filename = filename)%>%\n",
    "          filter(grepl(\"Duration\", Domain))%>%\n",
    "          select(-Notes)\n",
    "    }else if(!grepl(\"updated\", filename) && !grepl(\"20210401.xlsx\", filename)){\n",
    "\n",
    "        desc <- read_excel(filename, sheet = tableName, range=\"A2:A2\") \n",
    "        \n",
    "        a <- \n",
    "          read_excel(filename, sheet = tableName, range = \"A5:E12\")%>%\n",
    "          mutate(`Impact on daily activity` = \"Activity not limited\")%>%\n",
    "          fill(Domain)\n",
    "\n",
    "        b <- cbind(\n",
    "          read_excel(filename, sheet = tableName, range = \"A5:B12\"),\n",
    "          read_excel(filename, sheet = tableName, range = \"I5:K12\"))%>%\n",
    "          mutate(`Impact on daily activity` = \"Activity limited a lot\")%>%\n",
    "          fill(Domain)\n",
    "\n",
    "\n",
    "        c <- cbind(\n",
    "          read_excel(filename, sheet = tableName, range = \"A5:B12\"),\n",
    "          read_excel(filename, sheet = tableName, range = \"F5:H12\"))%>%\n",
    "          mutate(`Impact on daily activity` = \"Activity limited a little\")%>%\n",
    "          fill(Domain)\n",
    "\n",
    "        data <-\n",
    "          rbind(a, b)%>%\n",
    "          rbind(c)%>%\n",
    "          mutate(info = colnames(desc)[[1]])%>%\n",
    "          mutate(filename = filename)%>%\n",
    "          filter(grepl(\"Duration\", Domain))\n",
    "     }else if(grepl(\"updated\", filename)){\n",
    "        desc <- read_excel(filename, sheet = tableName, range=\"A1:A1\") \n",
    "        data <- read_excel(filename, sheet = tableName, skip = 3) %>%\n",
    "           mutate(info = colnames(desc)[[1]])%>%\n",
    "           mutate(filename = filename)%>%\n",
    "           filter(grepl(\"Duration\", Domain))\n",
    "    }else{\n",
    "        print(paste(\"Not using\", filename))\n",
    "        data <- data.frame()\n",
    "    }\n",
    "\n",
    "    df_all <- rbind(df_all, data)\n",
    "}\n",
    "\n",
    "df_all <- \n",
    "  df_all%>%  \n",
    "  mutate(Date = gsub(\".*ending \", \"\", info))%>% \n",
    "  mutate(Date = as.Date(Date, format = \"%d %B %Y\"))%>%  \n",
    "  mutate(Estimate = as.integer(Estimate))%>%  \n",
    "  mutate(`Impact on daily activity` = gsub(\"A little\", \"Activity limited a little\", `Impact on daily activity`))%>%\n",
    "  mutate(`Impact on daily activity` = gsub(\"A lot\", \"Activity limited a lot\", `Impact on daily activity`))%>%\n",
    "  mutate(`Impact on daily activity` = gsub(\"Not at all\", \"Activity not limited\", `Impact on daily activity`))%>%\n",
    "  mutate(Group = gsub(\"<12 weeks\", \"0 to <12 weeks\", Group))%>%\n",
    "  mutate(Group = gsub(\"≥52 weeks\", \">= 52 weeks\", Group))%>%\n",
    "  mutate(Group = gsub(\">=104 weeks\", \"104+ weeks\", Group))%>%\n",
    "  filter(!(Date >= \"2022-03-05\" & Group ==\">= 52 weeks\"))%>%\n",
    "  select(-info)\n",
    "\n",
    "df_all%>%\n",
    "  write_csv(\"data/tidy_ons_longcovid.csv\")\n",
    "\n",
    "df_all%>%  \n",
    "  filter(Group == \">= 52 weeks\")%>%  \n",
    "  filter(`Impact on daily activity` == \"Activity not limited\")%>%\n",
    "  arrange(Date)%>%\n",
    "  tail"
   ]
  }
 ],
 "metadata": {
  "kernelspec": {
   "display_name": "R",
   "language": "R",
   "name": "ir"
  },
  "language_info": {
   "codemirror_mode": "r",
   "file_extension": ".r",
   "mimetype": "text/x-r-source",
   "name": "R",
   "pygments_lexer": "r",
   "version": "4.1.3"
  },
  "varInspector": {
   "cols": {
    "lenName": 16,
    "lenType": 16,
    "lenVar": 40
   },
   "kernels_config": {
    "python": {
     "delete_cmd_postfix": "",
     "delete_cmd_prefix": "del ",
     "library": "var_list.py",
     "varRefreshCmd": "print(var_dic_list())"
    },
    "r": {
     "delete_cmd_postfix": ") ",
     "delete_cmd_prefix": "rm(",
     "library": "var_list.r",
     "varRefreshCmd": "cat(var_dic_list()) "
    }
   },
   "types_to_exclude": [
    "module",
    "function",
    "builtin_function_or_method",
    "instance",
    "_Feature"
   ],
   "window_display": false
  }
 },
 "nbformat": 4,
 "nbformat_minor": 2
}
